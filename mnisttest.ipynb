{
 "cells": [
  {
   "cell_type": "code",
   "execution_count": null,
   "metadata": {},
   "outputs": [
    {
     "name": "stdout",
     "output_type": "stream",
     "text": [
      "Collecting numpy\n",
      "  Using cached numpy-2.2.0-cp310-cp310-manylinux_2_17_x86_64.manylinux2014_x86_64.whl.metadata (62 kB)\n",
      "Using cached numpy-2.2.0-cp310-cp310-manylinux_2_17_x86_64.manylinux2014_x86_64.whl (16.4 MB)\n",
      "Installing collected packages: numpy\n",
      "Successfully installed numpy-2.2.0\n",
      "Collecting matplotlib\n",
      "  Using cached matplotlib-3.9.3-cp310-cp310-manylinux_2_17_x86_64.manylinux2014_x86_64.whl.metadata (11 kB)\n",
      "Collecting contourpy>=1.0.1 (from matplotlib)\n",
      "  Using cached contourpy-1.3.1-cp310-cp310-manylinux_2_17_x86_64.manylinux2014_x86_64.whl.metadata (5.4 kB)\n",
      "Collecting cycler>=0.10 (from matplotlib)\n",
      "  Using cached cycler-0.12.1-py3-none-any.whl.metadata (3.8 kB)\n",
      "Collecting fonttools>=4.22.0 (from matplotlib)\n",
      "  Using cached fonttools-4.55.3-cp310-cp310-manylinux_2_17_x86_64.manylinux2014_x86_64.whl.metadata (165 kB)\n",
      "Collecting kiwisolver>=1.3.1 (from matplotlib)\n",
      "  Using cached kiwisolver-1.4.7-cp310-cp310-manylinux_2_12_x86_64.manylinux2010_x86_64.whl.metadata (6.3 kB)\n",
      "Requirement already satisfied: numpy>=1.23 in ./.venv/lib/python3.10/site-packages (from matplotlib) (2.2.0)\n",
      "Requirement already satisfied: packaging>=20.0 in ./.venv/lib/python3.10/site-packages (from matplotlib) (24.2)\n",
      "Collecting pillow>=8 (from matplotlib)\n",
      "  Using cached pillow-11.0.0-cp310-cp310-manylinux_2_28_x86_64.whl.metadata (9.1 kB)\n",
      "Collecting pyparsing>=2.3.1 (from matplotlib)\n",
      "  Using cached pyparsing-3.2.0-py3-none-any.whl.metadata (5.0 kB)\n",
      "Requirement already satisfied: python-dateutil>=2.7 in ./.venv/lib/python3.10/site-packages (from matplotlib) (2.9.0.post0)\n",
      "Requirement already satisfied: six>=1.5 in ./.venv/lib/python3.10/site-packages (from python-dateutil>=2.7->matplotlib) (1.17.0)\n",
      "Using cached matplotlib-3.9.3-cp310-cp310-manylinux_2_17_x86_64.manylinux2014_x86_64.whl (8.3 MB)\n",
      "Using cached contourpy-1.3.1-cp310-cp310-manylinux_2_17_x86_64.manylinux2014_x86_64.whl (324 kB)\n",
      "Using cached cycler-0.12.1-py3-none-any.whl (8.3 kB)\n",
      "Using cached fonttools-4.55.3-cp310-cp310-manylinux_2_17_x86_64.manylinux2014_x86_64.whl (4.6 MB)\n",
      "Using cached kiwisolver-1.4.7-cp310-cp310-manylinux_2_12_x86_64.manylinux2010_x86_64.whl (1.6 MB)\n",
      "Using cached pillow-11.0.0-cp310-cp310-manylinux_2_28_x86_64.whl (4.4 MB)\n",
      "Using cached pyparsing-3.2.0-py3-none-any.whl (106 kB)\n",
      "Installing collected packages: pyparsing, pillow, kiwisolver, fonttools, cycler, contourpy, matplotlib\n",
      "Successfully installed contourpy-1.3.1 cycler-0.12.1 fonttools-4.55.3 kiwisolver-1.4.7 matplotlib-3.9.3 pillow-11.0.0 pyparsing-3.2.0\n",
      "Collecting scikit-learn\n",
      "  Using cached scikit_learn-1.6.0-cp310-cp310-manylinux_2_17_x86_64.manylinux2014_x86_64.whl.metadata (18 kB)\n",
      "Requirement already satisfied: numpy>=1.19.5 in ./.venv/lib/python3.10/site-packages (from scikit-learn) (2.2.0)\n",
      "Collecting scipy>=1.6.0 (from scikit-learn)\n",
      "  Using cached scipy-1.14.1-cp310-cp310-manylinux_2_17_x86_64.manylinux2014_x86_64.whl.metadata (60 kB)\n",
      "Collecting joblib>=1.2.0 (from scikit-learn)\n",
      "  Using cached joblib-1.4.2-py3-none-any.whl.metadata (5.4 kB)\n",
      "Collecting threadpoolctl>=3.1.0 (from scikit-learn)\n",
      "  Using cached threadpoolctl-3.5.0-py3-none-any.whl.metadata (13 kB)\n",
      "Using cached scikit_learn-1.6.0-cp310-cp310-manylinux_2_17_x86_64.manylinux2014_x86_64.whl (13.5 MB)\n",
      "Using cached joblib-1.4.2-py3-none-any.whl (301 kB)\n",
      "Using cached scipy-1.14.1-cp310-cp310-manylinux_2_17_x86_64.manylinux2014_x86_64.whl (41.2 MB)\n",
      "Using cached threadpoolctl-3.5.0-py3-none-any.whl (18 kB)\n",
      "Installing collected packages: threadpoolctl, scipy, joblib, scikit-learn\n",
      "Successfully installed joblib-1.4.2 scikit-learn-1.6.0 scipy-1.14.1 threadpoolctl-3.5.0\n",
      "Collecting pandas\n",
      "  Using cached pandas-2.2.3-cp310-cp310-manylinux_2_17_x86_64.manylinux2014_x86_64.whl.metadata (89 kB)\n",
      "Requirement already satisfied: numpy>=1.22.4 in ./.venv/lib/python3.10/site-packages (from pandas) (2.2.0)\n",
      "Requirement already satisfied: python-dateutil>=2.8.2 in ./.venv/lib/python3.10/site-packages (from pandas) (2.9.0.post0)\n",
      "Collecting pytz>=2020.1 (from pandas)\n",
      "  Using cached pytz-2024.2-py2.py3-none-any.whl.metadata (22 kB)\n",
      "Collecting tzdata>=2022.7 (from pandas)\n",
      "  Using cached tzdata-2024.2-py2.py3-none-any.whl.metadata (1.4 kB)\n",
      "Requirement already satisfied: six>=1.5 in ./.venv/lib/python3.10/site-packages (from python-dateutil>=2.8.2->pandas) (1.17.0)\n",
      "Using cached pandas-2.2.3-cp310-cp310-manylinux_2_17_x86_64.manylinux2014_x86_64.whl (13.1 MB)\n",
      "Using cached pytz-2024.2-py2.py3-none-any.whl (508 kB)\n",
      "Using cached tzdata-2024.2-py2.py3-none-any.whl (346 kB)\n",
      "Installing collected packages: pytz, tzdata, pandas\n",
      "Successfully installed pandas-2.2.3 pytz-2024.2 tzdata-2024.2\n",
      "Collecting tdqm\n",
      "  Using cached tdqm-0.0.1-py3-none-any.whl\n",
      "Collecting tqdm (from tdqm)\n",
      "  Using cached tqdm-4.67.1-py3-none-any.whl.metadata (57 kB)\n",
      "Using cached tqdm-4.67.1-py3-none-any.whl (78 kB)\n",
      "Installing collected packages: tqdm, tdqm\n",
      "Successfully installed tdqm-0.0.1 tqdm-4.67.1\n"
     ]
    }
   ],
   "source": [
    "# !pip install numpy\n",
    "# !pip install matplotlib\n",
    "# !pip install scikit-learn\n",
    "# !pip install pandas\n",
    "# !pip install tdqm"
   ]
  },
  {
   "cell_type": "code",
   "execution_count": 1,
   "metadata": {},
   "outputs": [],
   "source": [
    "\n",
    "import numpy as np\n",
    "import matplotlib.pyplot as plt\n",
    "from sklearn import datasets\n",
    "\n",
    "mnist = datasets.fetch_openml('mnist_784', version=1)\n",
    "X, y = mnist.data.to_numpy(), mnist.target.astype(int)\n"
   ]
  },
  {
   "cell_type": "markdown",
   "metadata": {},
   "source": [
    "1. Tworzymy drzewo z danych (liście to punkty, odległość to ścieżki)\n",
    "2. robimy radialny rysunek drzewa\n",
    "3. profit?"
   ]
  },
  {
   "cell_type": "code",
   "execution_count": 2,
   "metadata": {},
   "outputs": [
    {
     "name": "stdout",
     "output_type": "stream",
     "text": [
      "(70000, 784)\n"
     ]
    }
   ],
   "source": [
    "print(X.shape)"
   ]
  },
  {
   "cell_type": "code",
   "execution_count": 2,
   "metadata": {},
   "outputs": [
    {
     "name": "stdout",
     "output_type": "stream",
     "text": [
      "0.5685005163346442\n",
      "8192 4657.156229813405 13\n"
     ]
    }
   ],
   "source": [
    "p = np.random.permutation(70000)\n",
    "radius=np.random.uniform(0.5,1)\n",
    "print(radius)\n",
    "moduli=np.sum(X*X,axis=1)\n",
    "k=2\n",
    "depth=1\n",
    "while k<np.sqrt(np.max(moduli)):\n",
    "    k=k*2\n",
    "    depth+=1\n",
    "radius=radius*k\n",
    "print(k,radius,depth)\n",
    "#check if dividing by min distance helps results"
   ]
  },
  {
   "cell_type": "code",
   "execution_count": null,
   "metadata": {},
   "outputs": [],
   "source": [
    "from tqdm import tqdm\n",
    "i=np.log2(radius)\n",
    "print(i)\n",
    "# print(np.min(moduli))\n",
    "# print(moduli)\n",
    "# print(moduli.shape)\n",
    "\n",
    "def compute_dists(X, test_X, radius, batch_size=800):\n",
    "    mindist=radius\n",
    "    for i in tqdm(range(0, test_X.shape[0], batch_size)):\n",
    "        batch_X = test_X[i:i + batch_size]\n",
    "        #this wa we avoid compting  the distanes betweenthhemselves, but the disttances bettwween  thee batch aarere also absent\n",
    "        print(X[:i].shape)\n",
    "        print(X[i+batch_size:].shape)\n",
    "        if i>0:\n",
    "            train_X=np.vstack([X[:i],X[i+batch_size:]])\n",
    "        else:\n",
    "            train_X=X[i+batch_size:]\n",
    "        print(train_X.shape)\n",
    "        dists =  np.sqrt(np.sum(train_X**2, axis=1).reshape(1,-1).T + np.sum(batch_X**2,axis=1) - 2*np.dot(train_X, batch_X.T))\n",
    "        print(dists)\n",
    "        if np.min(dists)<mindist:\n",
    "            print(mindist)\n",
    "            mindist=np.min(dists)\n",
    "\n",
    "    return mindist\n",
    "\n",
    "print(compute_dists(X.astype('float32'),X.astype('float32'),radius))"
   ]
  },
  {
   "cell_type": "code",
   "execution_count": null,
   "metadata": {},
   "outputs": [],
   "source": [
    "class Node:\n",
    "    def __init__(self,id,cat,dist):\n",
    "        self.id=id\n",
    "        self.cat=cat\n",
    "        self.dist=dist\n",
    "        #list or ndarray, probaly list\n",
    "        self.children=None\n",
    "    def add_children(self,children):\n",
    "        self.children=children\n",
    "\n",
    "\n",
    "class Tree:\n",
    "    def __init__(self,points,labels,radius,k):\n",
    "        self.p = np.random.permutation(points)\n",
    "        self.radius=radius\n",
    "        self.labels=labels\n",
    "        self.root=Node(p[0],labels[p[0]],radius*k)\n",
    "\n",
    "    def populate_tree(self,X):\n",
    "        \n",
    "\n",
    "    "
   ]
  },
  {
   "cell_type": "code",
   "execution_count": 3,
   "metadata": {},
   "outputs": [
    {
     "name": "stdout",
     "output_type": "stream",
     "text": [
      "[[5940005]\n",
      " [6750341]\n",
      " [3853933]\n",
      " ...\n",
      " [6602505]\n",
      " [5816711]\n",
      " [9416409]]\n",
      "[         0          0          0          0          0          0\n",
      "          0          0          0          0          0          0\n",
      "      13556     111172      46656         81          0          0\n",
      "          0          0          0          0          0          0\n",
      "          0          0          0          0          0          0\n",
      "          0          0        256       3717     122483     288365\n",
      "     609724     736009    1627497    2258155    2566423    2436880\n",
      "    2731668    2455656    2212721    1942690    1312113     948970\n",
      "     644025     226558      88031      39034          0          0\n",
      "          0          0          0          0       4096       1010\n",
      "      39905      72798     658223    1734701    3558798    6753009\n",
      "   12329050   18738953   26897411   35588935   45251376   49527387\n",
      "   50702178   45774541   37112870   27546853   16116872    8314694\n",
      "    3845215    1074158     375010      72932          0          0\n",
      "          0          0      21766      26097      67315     700734\n",
      "    2640622    6831209   15211972   30600140   52283270   79218403\n",
      "  108063922  141158236  171542249  191107774  185064498  164731901\n",
      "  132344890   94774464   56147696   30478348   13577982    5361351\n",
      "    1972845     270491      43419          0          0       1444\n",
      "      27093      71899     850558    4314850   12147430   30902442\n",
      "   63501952  116259206  190616184  284925515  395707326  519300298\n",
      "  622409238  673014864  652133091  567151523  445985213  321391245\n",
      "  204155917  115548015   58896811   27263933   10309432    2059490\n",
      "     407267       7450          0        576      45259     514106\n",
      "    4205131   18232798   46985976   97808684  181762693  305533673\n",
      "  466260120  663836001  894493669 1135404953 1320679972 1406195037\n",
      " 1372004996 1223649110  986361901  730761303  492472737  298772868\n",
      "  168389145   87418808   36927493    8848003    1524611      19670\n",
      "          0         65     185871    2654715   14540122   43766285\n",
      "  101118957  201212347  350131543  554712949  802634832 1084244435\n",
      " 1381638328 1662458342 1873281393 1969672986 1922148194 1759089073\n",
      " 1488842871 1144442597  807373341  510113786  296159517  154552688\n",
      "   70072480   22293103    4292204     294987       2209     150497\n",
      "    1173447    7390525   30508187   80131343  172089257  320864164\n",
      "  530984962  805219014 1115805470 1441006395 1730191156 1955719654\n",
      " 2093959019 2135898365 2094723730 1980623779 1763980279 1439501604\n",
      " 1050706060  688779165  400364821  208848469   92032643   32183296\n",
      "    5806833     295796      39290     617473    4173919   16669969\n",
      "   51329970  117782570  237854571  429167334  701768764 1038201001\n",
      " 1393879837 1693674485 1870657224 1935610594 1927881451 1907831191\n",
      " 1913719473 1912094348 1817959755 1558718562 1178554189  788199463\n",
      "  458901582  226067249   95646881   33687844    5998397     325009\n",
      "      60707    1137684    6651621   23857191   62255736  137258670\n",
      "  279029659  507006396  829617081 1208894608 1554624698 1737143451\n",
      " 1724717153 1607499281 1518972795 1518546418 1599870565 1723206316\n",
      " 1734938314 1534485621 1175302541  790101667  455841061  212206333\n",
      "   78191426   23482951    4208970     324471     134347    1367886\n",
      "    6752677   22750334   59466752  136740779  292709171  547479714\n",
      "  908978672 1299203115 1575202337 1607745718 1424779004 1234401729\n",
      " 1185221013 1274175462 1425533450 1615598231 1651621624 1453626493\n",
      " 1091198040  722552152  414265824  186075175   59783451   13999704\n",
      "    2756001     264038      43882     924067    5487563   16737518\n",
      "   48428407  129814982  301133557  589679490  983338055 1364481746\n",
      " 1547053512 1458156955 1217076421 1074924362 1145435988 1308427585\n",
      " 1483411601 1662368930 1637309946 1368176632  978643158  630490633\n",
      "  372931617  177855855   51940697    6978042    1540284      74514\n",
      "      30794     523342    3093864   11015699   39631601  130760289\n",
      "  328678646  653677823 1066057061 1414331101 1528392666 1397074122\n",
      " 1195952064 1183220415 1391501157 1590182136 1744886884 1839297783\n",
      " 1677547272 1290058409  870983307  564937450  353160658  185804013\n",
      "   57091390    5188312     851290      63002       1024     191533\n",
      "    1551938    7640772   37584188  146074322  374425299  720853265\n",
      " 1127094176 1433143911 1506360317 1399159463 1315261943 1485154363\n",
      " 1781357969 1957687694 2033374784 2009148816 1704079199 1227854922\n",
      "  819102474  553022041  360402473  201439859   69253246    7005091\n",
      "     820182     129240      12769      63999     596016    5612436\n",
      "   38958313  171335897  421322943  770356926 1144937977 1410313808\n",
      " 1470513144 1427938152 1484466185 1806910920 2100023775 2212673454\n",
      " 2169461043 2038992872 1669273233 1202605658  839431199  584032029\n",
      "  383364216  216795874   78219577    9879023     887567       6043\n",
      "       1418      51112     421046    5987363   45297537  202483857\n",
      "  459579679  780108993 1104246002 1332291565 1406463505 1440194861\n",
      " 1613808178 1956679150 2183149067 2201617595 2095266079 1929232869\n",
      " 1567789082 1190214874  878597351  623765147  402745854  217136509\n",
      "   79337824   13536685    1608184      89339       1600      23195\n",
      "     921204    7100444   57188396  233048160  485220200  757783370\n",
      " 1016961470 1197310874 1279246396 1363142116 1564189483 1837303000\n",
      " 2012746325 2009267584 1918295036 1744913630 1468240056 1183173578\n",
      "  911692313  634832433  396755706  203216273   74341032   15986917\n",
      "    2014761     131296          0      39897    1453536   11501162\n",
      "   79220773  264933346  498719267  726565446  921878689 1060671531\n",
      " 1140089751 1234639083 1388521961 1591971974 1766029838 1810882793\n",
      " 1756910414 1626190615 1434997383 1194786850  910808633  615633910\n",
      "  365745605  179597454   66078310   17060979    2100545      67323\n",
      "       6210      57911    2117849   19485702  104426171  296532149\n",
      "  523766744  731064526  890298268 1010908374 1103519206 1182854418\n",
      " 1279016990 1468815329 1660720426 1750726615 1733389984 1639894456\n",
      " 1463750688 1195531576  870588688  566726272  326350099  155814250\n",
      "   58207758   15895959    1712884     103696        225     135008\n",
      "    3517593   27343145  121683520  318697059  556732166  779071827\n",
      "  957661037 1100059087 1209731392 1288957876 1394054103 1572615611\n",
      " 1760890923 1845899311 1815005934 1691314383 1447333469 1113435817\n",
      "  773017859  484499727  267859814  123943083   46685277   13082611\n",
      "    1717242      43898          0     132054    3983035   29984680\n",
      "  118795163  300369248  556736523  824398158 1064601505 1260386192\n",
      " 1412326801 1531025817 1667159857 1836396010 1972879260 1985388861\n",
      " 1864017376 1629024240 1300409553  937462121  611391475  360948718\n",
      "  189380577   86728807   34530807    8764766    1213677       5101\n",
      "       1024      96600    3369065   24276797   89125732  239587229\n",
      "  482948975  785169583 1090435905 1362989036 1583974785 1761226834\n",
      " 1920302459 2050139074 2089181571 1972412651 1721292580 1383315955\n",
      " 1014008611  678419923  412822478  226365880  114441038   53671164\n",
      "   21184568    4969784     608933       1521        961       1609\n",
      "    1980673   13427607   50267823  145995951  329099381  598837078\n",
      "  926921643 1260432103 1559348846 1789501414 1938009505 1987217747\n",
      " 1915727315 1687309470 1357346211  999943065  670671424  412946781\n",
      "  233218014  122192462   60508628   28093653    9808344    1894308\n",
      "     150754       5184          0        576     523933    4481209\n",
      "   20665121   62861955  156751583  329097202  580527593  877691802\n",
      " 1178018497 1423054935 1553186327 1545084277 1401488674 1153719087\n",
      "  860211374  584609701  361835812  208424361  114000757   57384442\n",
      "   27796457   11920824    3320828     649251      51284          0\n",
      "          0          0     140653    1218765    6035984   19615177\n",
      "   51894972  120195385  231762143  385991085  554070189  691298457\n",
      "  763308538  756205284  671368549  534996016  396155028  270443820\n",
      "  166777581   98652890   52366613   25762009   11689708    4552894\n",
      "     963805     228061       9928          0          0          0\n",
      "       3316     158559    1501142    5892985   18013265   42826598\n",
      "   86561755  140269716  199332670  242792896  265048008  261438665\n",
      "  231322203  189877510  151165698  109423346   71570984   42588592\n",
      "   22332297   10775968    4342314    1565593     257156      28322\n",
      "      10816          0          0          0          0       1444\n",
      "     331486    1820164    6983580   15868638   31550665   47936920\n",
      "   66320110   82542463   89626562   87491303   78079164   61289950\n",
      "   49216319   35091041   22472965   13292504    7446429    3146299\n",
      "     923365     188000       1302       3481          0          0\n",
      "          0          0          0          0      11486     177763\n",
      "     406352    1050139    1553289    2541316    3862413    5261569\n",
      "    6475390    7412553    8869703    7744648    6265754    4400480\n",
      "    2515311    1268804     542586     170767     169009       7208\n",
      "          0          0          0          0]\n"
     ]
    },
    {
     "ename": "ValueError",
     "evalue": "operands could not be broadcast together with shapes (70000,784) (784,784) ",
     "output_type": "error",
     "traceback": [
      "\u001b[0;31m---------------------------------------------------------------------------\u001b[0m",
      "\u001b[0;31mValueError\u001b[0m                                Traceback (most recent call last)",
      "Cell \u001b[0;32mIn[3], line 6\u001b[0m\n\u001b[1;32m      4\u001b[0m \u001b[38;5;28mprint\u001b[39m(sq2)\n\u001b[1;32m      5\u001b[0m dist\u001b[38;5;241m=\u001b[39mX\u001b[38;5;241m.\u001b[39mT\u001b[38;5;129m@X\u001b[39m\n\u001b[0;32m----> 6\u001b[0m distance_matrix\u001b[38;5;241m=\u001b[39mnp\u001b[38;5;241m.\u001b[39msqrt(\u001b[43msq1\u001b[49m\u001b[38;5;241;43m+\u001b[39;49m\u001b[43msq2\u001b[49m\u001b[38;5;241;43m-\u001b[39;49m\u001b[38;5;241;43m2\u001b[39;49m\u001b[38;5;241;43m*\u001b[39;49m\u001b[43mdist\u001b[49m)\n",
      "\u001b[0;31mValueError\u001b[0m: operands could not be broadcast together with shapes (70000,784) (784,784) "
     ]
    }
   ],
   "source": [
    "sq1=np.sum(X*X,axis=1).reshape(-1,1)\n",
    "sq2=np.sum(X.T*X.T,axis=1)\n",
    "print(sq1)\n",
    "print(sq2)\n",
    "dist=X.T@X\n",
    "distance_matrix=np.sqrt(sq1+sq2-2*dist)"
   ]
  },
  {
   "cell_type": "code",
   "execution_count": 5,
   "metadata": {},
   "outputs": [
    {
     "ename": "MemoryError",
     "evalue": "Unable to allocate 36.5 GiB for an array with shape (70000, 70000) and data type int64",
     "output_type": "error",
     "traceback": [
      "\u001b[0;31m---------------------------------------------------------------------------\u001b[0m",
      "\u001b[0;31mMemoryError\u001b[0m                               Traceback (most recent call last)",
      "Cell \u001b[0;32mIn[5], line 3\u001b[0m\n\u001b[1;32m      1\u001b[0m sq1\u001b[38;5;241m=\u001b[39mnp\u001b[38;5;241m.\u001b[39msum(X\u001b[38;5;241m*\u001b[39mX,axis\u001b[38;5;241m=\u001b[39m\u001b[38;5;241m1\u001b[39m)\u001b[38;5;241m.\u001b[39mreshape(\u001b[38;5;241m-\u001b[39m\u001b[38;5;241m1\u001b[39m,\u001b[38;5;241m1\u001b[39m)\n\u001b[1;32m      2\u001b[0m sq2\u001b[38;5;241m=\u001b[39mnp\u001b[38;5;241m.\u001b[39msum(X\u001b[38;5;241m.\u001b[39mT\u001b[38;5;241m*\u001b[39mX\u001b[38;5;241m.\u001b[39mT,axis\u001b[38;5;241m=\u001b[39m\u001b[38;5;241m1\u001b[39m)\n\u001b[0;32m----> 3\u001b[0m dists\u001b[38;5;241m=\u001b[39msq1\u001b[38;5;241m+\u001b[39msq2\u001b[38;5;241m-\u001b[39m \u001b[38;5;241m2\u001b[39m\u001b[38;5;241m*\u001b[39m\u001b[43mnp\u001b[49m\u001b[38;5;241;43m.\u001b[39;49m\u001b[43mdot\u001b[49m\u001b[43m(\u001b[49m\u001b[43mX\u001b[49m\u001b[43m,\u001b[49m\u001b[43mX\u001b[49m\u001b[38;5;241;43m.\u001b[39;49m\u001b[43mT\u001b[49m\u001b[43m)\u001b[49m\n",
      "\u001b[0;31mMemoryError\u001b[0m: Unable to allocate 36.5 GiB for an array with shape (70000, 70000) and data type int64"
     ]
    }
   ],
   "source": [
    "sq1=np.sum(X*X,axis=1).reshape(-1,1)\n",
    "sq2=np.sum(X.T*X.T,axis=1)\n",
    "dists=sq1+sq2- 2*np.dot(X,X.T)"
   ]
  },
  {
   "cell_type": "code",
   "execution_count": 4,
   "metadata": {},
   "outputs": [
    {
     "name": "stdout",
     "output_type": "stream",
     "text": [
      "(784, 784)\n"
     ]
    }
   ],
   "source": [
    "print(dist.shape)"
   ]
  }
 ],
 "metadata": {
  "kernelspec": {
   "display_name": "Python 3",
   "language": "python",
   "name": "python3"
  },
  "language_info": {
   "codemirror_mode": {
    "name": "ipython",
    "version": 3
   },
   "file_extension": ".py",
   "mimetype": "text/x-python",
   "name": "python",
   "nbconvert_exporter": "python",
   "pygments_lexer": "ipython3",
   "version": "3.10.12"
  }
 },
 "nbformat": 4,
 "nbformat_minor": 2
}
